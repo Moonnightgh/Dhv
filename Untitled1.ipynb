{
  "nbformat": 4,
  "nbformat_minor": 0,
  "metadata": {
    "colab": {
      "provenance": [],
      "mount_file_id": "1xl0e644drnHQxtylhzsokxgB-W4FRsb7",
      "authorship_tag": "ABX9TyPk4YqrMZhYQNL9/Si/T4eo",
      "include_colab_link": true
    },
    "kernelspec": {
      "name": "python3",
      "display_name": "Python 3"
    },
    "language_info": {
      "name": "python"
    }
  },
  "cells": [
    {
      "cell_type": "markdown",
      "metadata": {
        "id": "view-in-github",
        "colab_type": "text"
      },
      "source": [
        "<a href=\"https://colab.research.google.com/github/Moonnightgh/Dhv/blob/main/Untitled1.ipynb\" target=\"_parent\"><img src=\"https://colab.research.google.com/assets/colab-badge.svg\" alt=\"Open In Colab\"/></a>"
      ]
    },
    {
      "cell_type": "code",
      "execution_count": null,
      "metadata": {
        "id": "wSh7YzFhYTni"
      },
      "outputs": [],
      "source": [
        "import pandas as pd\n"
      ]
    },
    {
      "cell_type": "code",
      "source": [
        "df=pd.read_csv(\"//data (1).csv\")\n",
        "print(df.head())"
      ],
      "metadata": {
        "colab": {
          "base_uri": "https://localhost:8080/"
        },
        "id": "gQ1yO4L5eQq2",
        "outputId": "8b7ec569-613e-4d5c-8abb-8c1b868f3bbe"
      },
      "execution_count": null,
      "outputs": [
        {
          "output_type": "stream",
          "name": "stdout",
          "text": [
            "   Duration  Pulse  Maxpulse  Calories\n",
            "0        60    110       130     409.1\n",
            "1        60    117       145     479.0\n",
            "2        60    103       135     340.0\n",
            "3        45    109       175     282.4\n",
            "4        45    117       148     406.0\n"
          ]
        }
      ]
    },
    {
      "cell_type": "code",
      "source": [
        "df.isnull().sum()"
      ],
      "metadata": {
        "id": "_hnTxLcCeR3T"
      },
      "execution_count": null,
      "outputs": []
    },
    {
      "cell_type": "code",
      "source": [
        "newf1=df.dropna()"
      ],
      "metadata": {
        "id": "_r9k7vlggHDn"
      },
      "execution_count": null,
      "outputs": []
    },
    {
      "cell_type": "code",
      "source": [
        "newdf1=df.dropna()\n",
        "newdf1.shape"
      ],
      "metadata": {
        "colab": {
          "base_uri": "https://localhost:8080/"
        },
        "id": "fGbzZilUgO0u",
        "outputId": "b75641bc-c8f0-4c57-f0e8-dcd0b910e205"
      },
      "execution_count": null,
      "outputs": [
        {
          "output_type": "execute_result",
          "data": {
            "text/plain": [
              "(164, 4)"
            ]
          },
          "metadata": {},
          "execution_count": 13
        }
      ]
    },
    {
      "cell_type": "code",
      "source": [
        "newdf1.fillna(130,inplace=True)\n",
        "newdf1.shape"
      ],
      "metadata": {
        "id": "9PtRgoqXhLzu"
      },
      "execution_count": null,
      "outputs": []
    },
    {
      "cell_type": "code",
      "source": [
        "df.isnull().sum()\n",
        "newf1=df.dropna()\n",
        "newf2=df.dropna()\n",
        "newf3=df.dropna()\n",
        "newf4=df.dropna()\n",
        "newdf1.fillna(130,inplace=True)\n",
        "newdf1.shape"
      ],
      "metadata": {
        "id": "nvQGNzTUiTa-"
      },
      "execution_count": null,
      "outputs": []
    },
    {
      "cell_type": "code",
      "source": [
        "x=df[\"Calories\"].mean()\n",
        "df[\"Calories\"].fillna(x, inplace=True)\n"
      ],
      "metadata": {
        "id": "2RtWvMqsjeov"
      },
      "execution_count": null,
      "outputs": []
    },
    {
      "cell_type": "code",
      "source": [
        "df=pd.read_csv(\"//data (1).csv\")\n",
        "print(df.head())"
      ],
      "metadata": {
        "id": "SS01znQulFWQ"
      },
      "execution_count": null,
      "outputs": []
    },
    {
      "cell_type": "code",
      "source": [
        "x=df[\"Calories\"].mean()\n",
        "df[\"Calories\"].fillna(x, inplace=True)\n",
        "print(df.mean)"
      ],
      "metadata": {
        "id": "x9Mo7YPUlJN3"
      },
      "execution_count": null,
      "outputs": []
    },
    {
      "cell_type": "code",
      "source": [
        "x=df[\"Calories\"].mode()\n",
        "df[\"Calories\"].fillna(x, inplace=True)\n",
        "print(df.mode)"
      ],
      "metadata": {
        "colab": {
          "base_uri": "https://localhost:8080/"
        },
        "id": "dgZhJJf4l32v",
        "outputId": "2d158b26-bcf6-4deb-d221-64ead6290df4"
      },
      "execution_count": null,
      "outputs": [
        {
          "output_type": "stream",
          "name": "stdout",
          "text": [
            "<bound method DataFrame.mode of      Duration  Pulse  Maxpulse  Calories\n",
            "0          60    110       130     409.1\n",
            "1          60    117       145     479.0\n",
            "2          60    103       135     340.0\n",
            "3          45    109       175     282.4\n",
            "4          45    117       148     406.0\n",
            "..        ...    ...       ...       ...\n",
            "164        60    105       140     290.8\n",
            "165        60    110       145     300.0\n",
            "166        60    115       145     310.2\n",
            "167        75    120       150     320.4\n",
            "168        75    125       150     330.4\n",
            "\n",
            "[169 rows x 4 columns]>\n"
          ]
        }
      ]
    }
  ]
}