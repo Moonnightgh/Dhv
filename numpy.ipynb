{
  "nbformat": 4,
  "nbformat_minor": 0,
  "metadata": {
    "colab": {
      "provenance": [],
      "authorship_tag": "ABX9TyMastj6xTwsRL4yPnHizLdz",
      "include_colab_link": true
    },
    "kernelspec": {
      "name": "python3",
      "display_name": "Python 3"
    },
    "language_info": {
      "name": "python"
    }
  },
  "cells": [
    {
      "cell_type": "markdown",
      "metadata": {
        "id": "view-in-github",
        "colab_type": "text"
      },
      "source": [
        "<a href=\"https://colab.research.google.com/github/Moonnightgh/Dhv/blob/main/numpy.ipynb\" target=\"_parent\"><img src=\"https://colab.research.google.com/assets/colab-badge.svg\" alt=\"Open In Colab\"/></a>"
      ]
    },
    {
      "cell_type": "code",
      "execution_count": 15,
      "metadata": {
        "id": "WTISzrMY3VKI"
      },
      "outputs": [],
      "source": [
        "import pandas as pd\n",
        "import numpy as np"
      ]
    },
    {
      "cell_type": "code",
      "source": [
        "import numpy as np\n",
        "array_1d = np.array([1, 2, 3, 4, 5])\n",
        "print(array_1d.shape)\n",
        "print(array_1d.size)\n",
        "print(array_1d.ndim)\n",
        "print(len(array_1d))\n",
        "array_2d = np.array([[1, 2, 3],\n",
        "                     [4, 5, 6]])\n",
        "print(array_2d.shape)\n",
        "print(array_2d.size)\n",
        "print(array_2d.ndim)\n",
        "print(len(array_2d))\n",
        "array_3d = np.array([[[1, 2, 3],\n",
        "                      [4, 5, 6]],\n",
        "\n",
        "                     [[7, 8, 9],\n",
        "                      [10, 11, 12]]])\n",
        "print(array_3d.shape)\n",
        "print(array_3d.size)\n",
        "print(array_3d.ndim)\n",
        "print(len(array_3d))\n"
      ],
      "metadata": {
        "colab": {
          "base_uri": "https://localhost:8080/"
        },
        "id": "kZDUY6-D3pSa",
        "outputId": "06573fe7-0e38-4b4c-9ec7-e1d632ee202a"
      },
      "execution_count": 19,
      "outputs": [
        {
          "output_type": "stream",
          "name": "stdout",
          "text": [
            "(5,)\n",
            "5\n",
            "1\n",
            "5\n",
            "(2, 3)\n",
            "6\n",
            "2\n",
            "2\n",
            "(2, 2, 3)\n",
            "12\n",
            "3\n",
            "2\n"
          ]
        }
      ]
    },
    {
      "cell_type": "code",
      "source": [
        "a_example = np.arange(1, 10, 2)\n",
        "print(a_example)\n",
        "randint_example = np.random.randint(1, 100, size=(3, 3))\n",
        "print(randint_example)\n",
        "rand_example = np.random.rand(2, 3)\n",
        "print(rand_example)\n",
        "lspace_example = np.linspace(1, 10, num=5)\n",
        "print(lspace_example)\n",
        "ones_example = np.ones((2, 3))\n",
        "print(ones_example)\n",
        "zeros_example = np.zeros((3, 2))\n",
        "print(zeros_example)\n",
        "diag_example = np.diag([1, 2, 3])\n",
        "print(diag_example)"
      ],
      "metadata": {
        "colab": {
          "base_uri": "https://localhost:8080/"
        },
        "id": "2_SWjcDu8mrD",
        "outputId": "f7ef6549-1304-43ce-f28d-3fa5122fc90b"
      },
      "execution_count": 18,
      "outputs": [
        {
          "output_type": "stream",
          "name": "stdout",
          "text": [
            "[1 3 5 7 9]\n",
            "[[20 40 86]\n",
            " [35 11 50]\n",
            " [71 86 12]]\n",
            "[[0.17955411 0.41000119 0.06876553]\n",
            " [0.94692931 0.67113382 0.17596124]]\n",
            "[ 1.    3.25  5.5   7.75 10.  ]\n",
            "[[1. 1. 1.]\n",
            " [1. 1. 1.]]\n",
            "[[0. 0.]\n",
            " [0. 0.]\n",
            " [0. 0.]]\n",
            "[[1 0 0]\n",
            " [0 2 0]\n",
            " [0 0 3]]\n"
          ]
        }
      ]
    },
    {
      "cell_type": "code",
      "source": [
        "marks= np.random.randint(0, 101, size=10)\n",
        "print(marks)"
      ],
      "metadata": {
        "colab": {
          "base_uri": "https://localhost:8080/"
        },
        "id": "AJ6KqEZy8uy7",
        "outputId": "1b58dd86-10ee-4736-d49c-5ecde9f7ce67"
      },
      "execution_count": 20,
      "outputs": [
        {
          "output_type": "stream",
          "name": "stdout",
          "text": [
            "[ 1 49 23 56  7 23 63 89 20 57]\n"
          ]
        }
      ]
    },
    {
      "cell_type": "code",
      "source": [
        "f_marks= marks[marks < 30]\n",
        "print(f_marks)\n"
      ],
      "metadata": {
        "colab": {
          "base_uri": "https://localhost:8080/"
        },
        "id": "g7oPFtU-AVgM",
        "outputId": "e56d26e8-a50b-4324-ddcf-de68860ab133"
      },
      "execution_count": 21,
      "outputs": [
        {
          "output_type": "stream",
          "name": "stdout",
          "text": [
            "[ 1 23  7 23 20]\n"
          ]
        }
      ]
    },
    {
      "cell_type": "code",
      "source": [
        "print(f_marks)\n",
        "pmarks=marks[marks>=30]\n",
        "print(pmarks)\n",
        "rows = 3\n",
        "cols = 4\n",
        "random_2d_array = np.random.rand(rows, cols)\n",
        "print(random_2d_array)\n"
      ],
      "metadata": {
        "colab": {
          "base_uri": "https://localhost:8080/"
        },
        "id": "S8L2Cf7PAwMM",
        "outputId": "e2c3a5be-61c3-43c8-b94c-3ffe80920caa"
      },
      "execution_count": 22,
      "outputs": [
        {
          "output_type": "stream",
          "name": "stdout",
          "text": [
            "[ 1 23  7 23 20]\n",
            "[49 56 63 89 57]\n",
            "[[0.91971561 0.98050675 0.62778071 0.30442703]\n",
            " [0.9810799  0.81871331 0.97123993 0.34049479]\n",
            " [0.14933831 0.32669519 0.18643396 0.71478149]]\n"
          ]
        }
      ]
    }
  ]
}